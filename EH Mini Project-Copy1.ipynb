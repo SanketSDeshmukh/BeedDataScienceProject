{
 "cells": [
  {
   "cell_type": "markdown",
   "metadata": {},
   "source": [
    "# EH Mini Project - Recommender Mark 1"
   ]
  },
  {
   "cell_type": "markdown",
   "metadata": {},
   "source": [
    "#### Input File  : Input File about Beer Data \n",
    "#### Output File : NA"
   ]
  },
  {
   "cell_type": "code",
   "execution_count": 3,
   "metadata": {},
   "outputs": [],
   "source": [
    "# Importing Libraries \n",
    "import numpy as np\n",
    "import pandas as pd\n",
    "import warnings\n",
    "warnings.filterwarnings('ignore')\n",
    "\n",
    "from sklearn.feature_extraction.text import TfidfTransformer\n",
    "from sklearn.feature_extraction.text import CountVectorizer\n",
    "from sklearn.feature_extraction.text import TfidfVectorizer\n",
    "from sklearn.metrics.pairwise        import cosine_similarity\n",
    "from nltk.stem.snowball              import SnowballStemmer\n",
    "from itertools                       import islice"
   ]
  },
  {
   "cell_type": "code",
   "execution_count": 4,
   "metadata": {},
   "outputs": [],
   "source": [
    "# Beer Dataset Path\n",
    "FILE_PATH = 'C://Users//Deshm//Downloads//'\n",
    "FILE_NAME = 'BeerDataScienceProject.csv'\n",
    "\n",
    "beer_df  = pd.read_csv(FILE_PATH+FILE_NAME, encoding='latin-1')"
   ]
  },
  {
   "cell_type": "code",
   "execution_count": 5,
   "metadata": {},
   "outputs": [
    {
     "data": {
      "text/plain": [
       "(528870, 13)"
      ]
     },
     "execution_count": 5,
     "metadata": {},
     "output_type": "execute_result"
    }
   ],
   "source": [
    "# Checking File Shape\n",
    "beer_df.shape"
   ]
  },
  {
   "cell_type": "code",
   "execution_count": 6,
   "metadata": {},
   "outputs": [
    {
     "name": "stdout",
     "output_type": "stream",
     "text": [
      "<class 'pandas.core.frame.DataFrame'>\n",
      "RangeIndex: 528870 entries, 0 to 528869\n",
      "Data columns (total 13 columns):\n",
      "beer_ABV              508590 non-null float64\n",
      "beer_beerId           528870 non-null int64\n",
      "beer_brewerId         528870 non-null int64\n",
      "beer_name             528870 non-null object\n",
      "beer_style            528870 non-null object\n",
      "review_appearance     528870 non-null float64\n",
      "review_palette        528870 non-null float64\n",
      "review_overall        528870 non-null float64\n",
      "review_taste          528870 non-null float64\n",
      "review_profileName    528755 non-null object\n",
      "review_aroma          528870 non-null float64\n",
      "review_text           528751 non-null object\n",
      "review_time           528870 non-null int64\n",
      "dtypes: float64(6), int64(3), object(4)\n",
      "memory usage: 52.5+ MB\n"
     ]
    }
   ],
   "source": [
    "beer_df.info()"
   ]
  },
  {
   "cell_type": "code",
   "execution_count": 7,
   "metadata": {},
   "outputs": [],
   "source": [
    "#beer_df.drop(['beer_beerId','beer_brewerId'], axis =1, inplace = True)\n",
    "#beer_df.drop(['beer_brewerId'], axis =1, inplace = True)"
   ]
  },
  {
   "cell_type": "code",
   "execution_count": 8,
   "metadata": {},
   "outputs": [],
   "source": [
    "# Converting Unix time to Readable timestamp\n",
    "beer_df['Review_Timestamp'] = pd.to_datetime(beer_df['review_time'], unit='s')"
   ]
  },
  {
   "cell_type": "code",
   "execution_count": 9,
   "metadata": {},
   "outputs": [
    {
     "data": {
      "text/html": [
       "<div>\n",
       "<style scoped>\n",
       "    .dataframe tbody tr th:only-of-type {\n",
       "        vertical-align: middle;\n",
       "    }\n",
       "\n",
       "    .dataframe tbody tr th {\n",
       "        vertical-align: top;\n",
       "    }\n",
       "\n",
       "    .dataframe thead th {\n",
       "        text-align: right;\n",
       "    }\n",
       "</style>\n",
       "<table border=\"1\" class=\"dataframe\">\n",
       "  <thead>\n",
       "    <tr style=\"text-align: right;\">\n",
       "      <th></th>\n",
       "      <th>beer_ABV</th>\n",
       "      <th>beer_beerId</th>\n",
       "      <th>beer_brewerId</th>\n",
       "      <th>beer_name</th>\n",
       "      <th>beer_style</th>\n",
       "      <th>review_appearance</th>\n",
       "      <th>review_palette</th>\n",
       "      <th>review_overall</th>\n",
       "      <th>review_taste</th>\n",
       "      <th>review_profileName</th>\n",
       "      <th>review_aroma</th>\n",
       "      <th>review_text</th>\n",
       "      <th>review_time</th>\n",
       "      <th>Review_Timestamp</th>\n",
       "    </tr>\n",
       "  </thead>\n",
       "  <tbody>\n",
       "    <tr>\n",
       "      <td>45443</td>\n",
       "      <td>NaN</td>\n",
       "      <td>3</td>\n",
       "      <td>2</td>\n",
       "      <td>Cactus Queen IPA</td>\n",
       "      <td>American IPA</td>\n",
       "      <td>4.0</td>\n",
       "      <td>4.5</td>\n",
       "      <td>4.5</td>\n",
       "      <td>4.0</td>\n",
       "      <td>MAB</td>\n",
       "      <td>4.5</td>\n",
       "      <td>The label is very informative, except it didn'...</td>\n",
       "      <td>1047929235</td>\n",
       "      <td>2003-03-17 19:27:15</td>\n",
       "    </tr>\n",
       "    <tr>\n",
       "      <td>45445</td>\n",
       "      <td>NaN</td>\n",
       "      <td>3</td>\n",
       "      <td>2</td>\n",
       "      <td>Cactus Queen IPA</td>\n",
       "      <td>American IPA</td>\n",
       "      <td>3.5</td>\n",
       "      <td>4.0</td>\n",
       "      <td>4.0</td>\n",
       "      <td>4.5</td>\n",
       "      <td>Jason</td>\n",
       "      <td>4.0</td>\n",
       "      <td>Presentation: 16oz brown with no freshness dat...</td>\n",
       "      <td>1019075828</td>\n",
       "      <td>2002-04-17 20:37:08</td>\n",
       "    </tr>\n",
       "    <tr>\n",
       "      <td>45444</td>\n",
       "      <td>NaN</td>\n",
       "      <td>3</td>\n",
       "      <td>2</td>\n",
       "      <td>Cactus Queen IPA</td>\n",
       "      <td>American IPA</td>\n",
       "      <td>4.0</td>\n",
       "      <td>3.5</td>\n",
       "      <td>4.0</td>\n",
       "      <td>4.0</td>\n",
       "      <td>Morris729</td>\n",
       "      <td>4.0</td>\n",
       "      <td>According to the label, this beer is dedicated...</td>\n",
       "      <td>1037795643</td>\n",
       "      <td>2002-11-20 12:34:03</td>\n",
       "    </tr>\n",
       "    <tr>\n",
       "      <td>45420</td>\n",
       "      <td>NaN</td>\n",
       "      <td>4</td>\n",
       "      <td>2</td>\n",
       "      <td>Wildcatter's Crude Stout</td>\n",
       "      <td>American Stout</td>\n",
       "      <td>4.0</td>\n",
       "      <td>3.5</td>\n",
       "      <td>3.5</td>\n",
       "      <td>4.0</td>\n",
       "      <td>Jason</td>\n",
       "      <td>3.5</td>\n",
       "      <td>Presentation: 16oz small bomber with a gushing...</td>\n",
       "      <td>1018003530</td>\n",
       "      <td>2002-04-05 10:45:30</td>\n",
       "    </tr>\n",
       "    <tr>\n",
       "      <td>45419</td>\n",
       "      <td>NaN</td>\n",
       "      <td>4</td>\n",
       "      <td>2</td>\n",
       "      <td>Wildcatter's Crude Stout</td>\n",
       "      <td>American Stout</td>\n",
       "      <td>4.0</td>\n",
       "      <td>3.5</td>\n",
       "      <td>4.0</td>\n",
       "      <td>4.0</td>\n",
       "      <td>Morris729</td>\n",
       "      <td>3.5</td>\n",
       "      <td>According to the label, this beer is dedicated...</td>\n",
       "      <td>1037805086</td>\n",
       "      <td>2002-11-20 15:11:26</td>\n",
       "    </tr>\n",
       "  </tbody>\n",
       "</table>\n",
       "</div>"
      ],
      "text/plain": [
       "       beer_ABV  beer_beerId  beer_brewerId                 beer_name  \\\n",
       "45443       NaN            3              2          Cactus Queen IPA   \n",
       "45445       NaN            3              2          Cactus Queen IPA   \n",
       "45444       NaN            3              2          Cactus Queen IPA   \n",
       "45420       NaN            4              2  Wildcatter's Crude Stout   \n",
       "45419       NaN            4              2  Wildcatter's Crude Stout   \n",
       "\n",
       "           beer_style  review_appearance  review_palette  review_overall  \\\n",
       "45443    American IPA                4.0             4.5             4.5   \n",
       "45445    American IPA                3.5             4.0             4.0   \n",
       "45444    American IPA                4.0             3.5             4.0   \n",
       "45420  American Stout                4.0             3.5             3.5   \n",
       "45419  American Stout                4.0             3.5             4.0   \n",
       "\n",
       "       review_taste review_profileName  review_aroma  \\\n",
       "45443           4.0                MAB           4.5   \n",
       "45445           4.5              Jason           4.0   \n",
       "45444           4.0          Morris729           4.0   \n",
       "45420           4.0              Jason           3.5   \n",
       "45419           4.0          Morris729           3.5   \n",
       "\n",
       "                                             review_text  review_time  \\\n",
       "45443  The label is very informative, except it didn'...   1047929235   \n",
       "45445  Presentation: 16oz brown with no freshness dat...   1019075828   \n",
       "45444  According to the label, this beer is dedicated...   1037795643   \n",
       "45420  Presentation: 16oz small bomber with a gushing...   1018003530   \n",
       "45419  According to the label, this beer is dedicated...   1037805086   \n",
       "\n",
       "         Review_Timestamp  \n",
       "45443 2003-03-17 19:27:15  \n",
       "45445 2002-04-17 20:37:08  \n",
       "45444 2002-11-20 12:34:03  \n",
       "45420 2002-04-05 10:45:30  \n",
       "45419 2002-11-20 15:11:26  "
      ]
     },
     "execution_count": 9,
     "metadata": {},
     "output_type": "execute_result"
    }
   ],
   "source": [
    "beer_df.sort_values(by='beer_beerId').head()"
   ]
  },
  {
   "cell_type": "code",
   "execution_count": 10,
   "metadata": {},
   "outputs": [],
   "source": [
    "beer_df.drop(['review_time'], axis =1, inplace = True)"
   ]
  },
  {
   "cell_type": "code",
   "execution_count": 11,
   "metadata": {},
   "outputs": [
    {
     "data": {
      "text/plain": [
       "beer_ABV                 283\n",
       "beer_beerId            20200\n",
       "beer_brewerId           1803\n",
       "beer_name              18339\n",
       "beer_style               104\n",
       "review_appearance         10\n",
       "review_palette             9\n",
       "review_overall            10\n",
       "review_taste               9\n",
       "review_profileName     22800\n",
       "review_aroma               9\n",
       "review_text           528371\n",
       "Review_Timestamp      527927\n",
       "dtype: int64"
      ]
     },
     "execution_count": 11,
     "metadata": {},
     "output_type": "execute_result"
    }
   ],
   "source": [
    "beer_df.nunique()"
   ]
  },
  {
   "cell_type": "code",
   "execution_count": 12,
   "metadata": {},
   "outputs": [],
   "source": [
    "filtered_df = beer_df.dropna()"
   ]
  },
  {
   "cell_type": "code",
   "execution_count": 13,
   "metadata": {},
   "outputs": [
    {
     "data": {
      "text/plain": [
       "(508358, 13)"
      ]
     },
     "execution_count": 13,
     "metadata": {},
     "output_type": "execute_result"
    }
   ],
   "source": [
    "filtered_df.shape"
   ]
  },
  {
   "cell_type": "markdown",
   "metadata": {},
   "source": [
    "### Question 1: Rank Top 3 Breweries which produce Strongest Beers"
   ]
  },
  {
   "cell_type": "code",
   "execution_count": 14,
   "metadata": {},
   "outputs": [],
   "source": [
    "# Filtering out strongest beers on the basis of ABV > 7\n",
    "# Domain Reference : https://www.thebeerstore.ca/beer-101/beer-types/ \n",
    "# This is a broad grouping that can describe any beer over 7% ABV. Strong beers are typically dark in colour, some are almost black. Different styles can include old ales, double IPAs, and barleywines.\n",
    "\n",
    "df_q1 = filtered_df[filtered_df['beer_ABV'] > 7]"
   ]
  },
  {
   "cell_type": "code",
   "execution_count": 15,
   "metadata": {},
   "outputs": [
    {
     "data": {
      "text/plain": [
       "Index(['beer_ABV', 'beer_beerId', 'beer_brewerId', 'beer_name', 'beer_style',\n",
       "       'review_appearance', 'review_palette', 'review_overall', 'review_taste',\n",
       "       'review_profileName', 'review_aroma', 'review_text',\n",
       "       'Review_Timestamp'],\n",
       "      dtype='object')"
      ]
     },
     "execution_count": 15,
     "metadata": {},
     "output_type": "execute_result"
    }
   ],
   "source": [
    "df_q1.columns"
   ]
  },
  {
   "cell_type": "code",
   "execution_count": 16,
   "metadata": {},
   "outputs": [],
   "source": [
    "df_grouped = df_q1.groupby('beer_brewerId', sort=False)['beer_brewerId'].count().to_frame().rename(columns={'beer_brewerId': 'Count'})"
   ]
  },
  {
   "cell_type": "code",
   "execution_count": 17,
   "metadata": {},
   "outputs": [
    {
     "data": {
      "text/html": [
       "<div>\n",
       "<style scoped>\n",
       "    .dataframe tbody tr th:only-of-type {\n",
       "        vertical-align: middle;\n",
       "    }\n",
       "\n",
       "    .dataframe tbody tr th {\n",
       "        vertical-align: top;\n",
       "    }\n",
       "\n",
       "    .dataframe thead th {\n",
       "        text-align: right;\n",
       "    }\n",
       "</style>\n",
       "<table border=\"1\" class=\"dataframe\">\n",
       "  <thead>\n",
       "    <tr style=\"text-align: right;\">\n",
       "      <th></th>\n",
       "      <th>Count</th>\n",
       "    </tr>\n",
       "    <tr>\n",
       "      <th>beer_brewerId</th>\n",
       "      <th></th>\n",
       "    </tr>\n",
       "  </thead>\n",
       "  <tbody>\n",
       "    <tr>\n",
       "      <td>1199</td>\n",
       "      <td>14913</td>\n",
       "    </tr>\n",
       "    <tr>\n",
       "      <td>3818</td>\n",
       "      <td>13097</td>\n",
       "    </tr>\n",
       "    <tr>\n",
       "      <td>158</td>\n",
       "      <td>11781</td>\n",
       "    </tr>\n",
       "  </tbody>\n",
       "</table>\n",
       "</div>"
      ],
      "text/plain": [
       "               Count\n",
       "beer_brewerId       \n",
       "1199           14913\n",
       "3818           13097\n",
       "158            11781"
      ]
     },
     "execution_count": 17,
     "metadata": {},
     "output_type": "execute_result"
    }
   ],
   "source": [
    "df_grouped.sort_values(by='Count', ascending=False).head(3)"
   ]
  },
  {
   "cell_type": "markdown",
   "metadata": {},
   "source": [
    "### Answer :  \n",
    "#### As shown above BrewerId : 1199. 3818, 158 have the strongest beer"
   ]
  },
  {
   "cell_type": "markdown",
   "metadata": {},
   "source": [
    "### Question 2: Which year did beers enjoy highest rating"
   ]
  },
  {
   "cell_type": "code",
   "execution_count": 18,
   "metadata": {},
   "outputs": [
    {
     "data": {
      "text/plain": [
       "Index(['beer_ABV', 'beer_beerId', 'beer_brewerId', 'beer_name', 'beer_style',\n",
       "       'review_appearance', 'review_palette', 'review_overall', 'review_taste',\n",
       "       'review_profileName', 'review_aroma', 'review_text',\n",
       "       'Review_Timestamp'],\n",
       "      dtype='object')"
      ]
     },
     "execution_count": 18,
     "metadata": {},
     "output_type": "execute_result"
    }
   ],
   "source": [
    "filtered_df.columns"
   ]
  },
  {
   "cell_type": "code",
   "execution_count": 19,
   "metadata": {},
   "outputs": [],
   "source": [
    "filtered_df['Year'] = pd.DatetimeIndex(filtered_df['Review_Timestamp']).year"
   ]
  },
  {
   "cell_type": "code",
   "execution_count": 20,
   "metadata": {},
   "outputs": [
    {
     "data": {
      "text/html": [
       "<div>\n",
       "<style scoped>\n",
       "    .dataframe tbody tr th:only-of-type {\n",
       "        vertical-align: middle;\n",
       "    }\n",
       "\n",
       "    .dataframe tbody tr th {\n",
       "        vertical-align: top;\n",
       "    }\n",
       "\n",
       "    .dataframe thead th {\n",
       "        text-align: right;\n",
       "    }\n",
       "</style>\n",
       "<table border=\"1\" class=\"dataframe\">\n",
       "  <thead>\n",
       "    <tr style=\"text-align: right;\">\n",
       "      <th></th>\n",
       "      <th>beer_ABV</th>\n",
       "      <th>beer_beerId</th>\n",
       "      <th>beer_brewerId</th>\n",
       "      <th>beer_name</th>\n",
       "      <th>beer_style</th>\n",
       "      <th>review_appearance</th>\n",
       "      <th>review_palette</th>\n",
       "      <th>review_overall</th>\n",
       "      <th>review_taste</th>\n",
       "      <th>review_profileName</th>\n",
       "      <th>review_aroma</th>\n",
       "      <th>review_text</th>\n",
       "      <th>Review_Timestamp</th>\n",
       "      <th>Year</th>\n",
       "    </tr>\n",
       "  </thead>\n",
       "  <tbody>\n",
       "    <tr>\n",
       "      <td>0</td>\n",
       "      <td>5.0</td>\n",
       "      <td>47986</td>\n",
       "      <td>10325</td>\n",
       "      <td>Sausa Weizen</td>\n",
       "      <td>Hefeweizen</td>\n",
       "      <td>2.5</td>\n",
       "      <td>2.0</td>\n",
       "      <td>1.5</td>\n",
       "      <td>1.5</td>\n",
       "      <td>stcules</td>\n",
       "      <td>1.5</td>\n",
       "      <td>A lot of foam. But a lot. In the smell some ba...</td>\n",
       "      <td>2009-02-16 20:57:03</td>\n",
       "      <td>2009</td>\n",
       "    </tr>\n",
       "  </tbody>\n",
       "</table>\n",
       "</div>"
      ],
      "text/plain": [
       "   beer_ABV  beer_beerId  beer_brewerId     beer_name  beer_style  \\\n",
       "0       5.0        47986          10325  Sausa Weizen  Hefeweizen   \n",
       "\n",
       "   review_appearance  review_palette  review_overall  review_taste  \\\n",
       "0                2.5             2.0             1.5           1.5   \n",
       "\n",
       "  review_profileName  review_aroma  \\\n",
       "0            stcules           1.5   \n",
       "\n",
       "                                         review_text    Review_Timestamp  Year  \n",
       "0  A lot of foam. But a lot. In the smell some ba... 2009-02-16 20:57:03  2009  "
      ]
     },
     "execution_count": 20,
     "metadata": {},
     "output_type": "execute_result"
    }
   ],
   "source": [
    "filtered_df.head(1)"
   ]
  },
  {
   "cell_type": "code",
   "execution_count": 21,
   "metadata": {},
   "outputs": [
    {
     "data": {
      "text/plain": [
       "Index(['beer_ABV', 'beer_beerId', 'beer_brewerId', 'beer_name', 'beer_style',\n",
       "       'review_appearance', 'review_palette', 'review_overall', 'review_taste',\n",
       "       'review_profileName', 'review_aroma', 'review_text', 'Review_Timestamp',\n",
       "       'Year'],\n",
       "      dtype='object')"
      ]
     },
     "execution_count": 21,
     "metadata": {},
     "output_type": "execute_result"
    }
   ],
   "source": [
    "filtered_df.columns"
   ]
  },
  {
   "cell_type": "code",
   "execution_count": 22,
   "metadata": {},
   "outputs": [],
   "source": [
    "q2_df = filtered_df.groupby(['beer_name','Year'], sort=False)['review_overall'].max()"
   ]
  },
  {
   "cell_type": "code",
   "execution_count": 23,
   "metadata": {},
   "outputs": [],
   "source": [
    "q2_df_new = q2_df.reset_index()"
   ]
  },
  {
   "cell_type": "code",
   "execution_count": 25,
   "metadata": {},
   "outputs": [],
   "source": [
    "idx=q2_df_new.groupby(by='beer_name')['review_overall'].idxmax()"
   ]
  },
  {
   "cell_type": "code",
   "execution_count": 26,
   "metadata": {},
   "outputs": [],
   "source": [
    "q2_final = q2_df_new.loc[idx,]"
   ]
  },
  {
   "cell_type": "code",
   "execution_count": 27,
   "metadata": {},
   "outputs": [
    {
     "data": {
      "text/html": [
       "<div>\n",
       "<style scoped>\n",
       "    .dataframe tbody tr th:only-of-type {\n",
       "        vertical-align: middle;\n",
       "    }\n",
       "\n",
       "    .dataframe tbody tr th {\n",
       "        vertical-align: top;\n",
       "    }\n",
       "\n",
       "    .dataframe thead th {\n",
       "        text-align: right;\n",
       "    }\n",
       "</style>\n",
       "<table border=\"1\" class=\"dataframe\">\n",
       "  <thead>\n",
       "    <tr style=\"text-align: right;\">\n",
       "      <th></th>\n",
       "      <th>beer_name</th>\n",
       "      <th>Year</th>\n",
       "      <th>review_overall</th>\n",
       "    </tr>\n",
       "  </thead>\n",
       "  <tbody>\n",
       "    <tr>\n",
       "      <td>31698</td>\n",
       "      <td>\"100\" Pale Ale</td>\n",
       "      <td>2009</td>\n",
       "      <td>4.0</td>\n",
       "    </tr>\n",
       "    <tr>\n",
       "      <td>23504</td>\n",
       "      <td>\"33\" Export</td>\n",
       "      <td>2010</td>\n",
       "      <td>3.0</td>\n",
       "    </tr>\n",
       "    <tr>\n",
       "      <td>22663</td>\n",
       "      <td>\"76\" Anniversary Ale</td>\n",
       "      <td>2010</td>\n",
       "      <td>4.0</td>\n",
       "    </tr>\n",
       "    <tr>\n",
       "      <td>22675</td>\n",
       "      <td>\"76\" Anniversary Ale With English Hops</td>\n",
       "      <td>2010</td>\n",
       "      <td>4.0</td>\n",
       "    </tr>\n",
       "    <tr>\n",
       "      <td>24792</td>\n",
       "      <td>\"Fade To Black\" Porter</td>\n",
       "      <td>2009</td>\n",
       "      <td>4.0</td>\n",
       "    </tr>\n",
       "    <tr>\n",
       "      <td>...</td>\n",
       "      <td>...</td>\n",
       "      <td>...</td>\n",
       "      <td>...</td>\n",
       "    </tr>\n",
       "    <tr>\n",
       "      <td>37352</td>\n",
       "      <td>Über Pils</td>\n",
       "      <td>2006</td>\n",
       "      <td>5.0</td>\n",
       "    </tr>\n",
       "    <tr>\n",
       "      <td>37617</td>\n",
       "      <td>ÜberFest Pilsner</td>\n",
       "      <td>2007</td>\n",
       "      <td>5.0</td>\n",
       "    </tr>\n",
       "    <tr>\n",
       "      <td>12465</td>\n",
       "      <td>ÜberSun (Imperial Summer Wheat Beer)</td>\n",
       "      <td>2009</td>\n",
       "      <td>5.0</td>\n",
       "    </tr>\n",
       "    <tr>\n",
       "      <td>36235</td>\n",
       "      <td>à L'Agave Et Au Citron Vert</td>\n",
       "      <td>2010</td>\n",
       "      <td>3.5</td>\n",
       "    </tr>\n",
       "    <tr>\n",
       "      <td>13807</td>\n",
       "      <td>überPils</td>\n",
       "      <td>2010</td>\n",
       "      <td>4.5</td>\n",
       "    </tr>\n",
       "  </tbody>\n",
       "</table>\n",
       "<p>14028 rows × 3 columns</p>\n",
       "</div>"
      ],
      "text/plain": [
       "                                    beer_name  Year  review_overall\n",
       "31698                          \"100\" Pale Ale  2009             4.0\n",
       "23504                             \"33\" Export  2010             3.0\n",
       "22663                    \"76\" Anniversary Ale  2010             4.0\n",
       "22675  \"76\" Anniversary Ale With English Hops  2010             4.0\n",
       "24792                  \"Fade To Black\" Porter  2009             4.0\n",
       "...                                       ...   ...             ...\n",
       "37352                               Über Pils  2006             5.0\n",
       "37617                        ÜberFest Pilsner  2007             5.0\n",
       "12465    ÜberSun (Imperial Summer Wheat Beer)  2009             5.0\n",
       "36235             à L'Agave Et Au Citron Vert  2010             3.5\n",
       "13807                                überPils  2010             4.5\n",
       "\n",
       "[14028 rows x 3 columns]"
      ]
     },
     "execution_count": 27,
     "metadata": {},
     "output_type": "execute_result"
    }
   ],
   "source": [
    "q2_final"
   ]
  },
  {
   "cell_type": "markdown",
   "metadata": {},
   "source": [
    "#### Answer: The Above datafame gives you the maximum rating of beers yearwise"
   ]
  },
  {
   "cell_type": "markdown",
   "metadata": {},
   "source": [
    "### Question 3: Based on the user’s ratings which factors are important among taste, aroma, appearance, and palette?"
   ]
  },
  {
   "cell_type": "code",
   "execution_count": 28,
   "metadata": {},
   "outputs": [
    {
     "data": {
      "text/plain": [
       "Index(['beer_ABV', 'beer_beerId', 'beer_brewerId', 'beer_name', 'beer_style',\n",
       "       'review_appearance', 'review_palette', 'review_overall', 'review_taste',\n",
       "       'review_profileName', 'review_aroma', 'review_text', 'Review_Timestamp',\n",
       "       'Year'],\n",
       "      dtype='object')"
      ]
     },
     "execution_count": 28,
     "metadata": {},
     "output_type": "execute_result"
    }
   ],
   "source": [
    "filtered_df.columns"
   ]
  },
  {
   "cell_type": "code",
   "execution_count": 29,
   "metadata": {},
   "outputs": [],
   "source": [
    "df_q3 = filtered_df.filter(['review_appearance', 'review_palette', 'review_overall', 'review_taste', 'review_aroma'], axis=1)"
   ]
  },
  {
   "cell_type": "code",
   "execution_count": 30,
   "metadata": {},
   "outputs": [
    {
     "data": {
      "text/html": [
       "<div>\n",
       "<style scoped>\n",
       "    .dataframe tbody tr th:only-of-type {\n",
       "        vertical-align: middle;\n",
       "    }\n",
       "\n",
       "    .dataframe tbody tr th {\n",
       "        vertical-align: top;\n",
       "    }\n",
       "\n",
       "    .dataframe thead th {\n",
       "        text-align: right;\n",
       "    }\n",
       "</style>\n",
       "<table border=\"1\" class=\"dataframe\">\n",
       "  <thead>\n",
       "    <tr style=\"text-align: right;\">\n",
       "      <th></th>\n",
       "      <th>review_appearance</th>\n",
       "      <th>review_palette</th>\n",
       "      <th>review_overall</th>\n",
       "      <th>review_taste</th>\n",
       "      <th>review_aroma</th>\n",
       "    </tr>\n",
       "  </thead>\n",
       "  <tbody>\n",
       "    <tr>\n",
       "      <td>0</td>\n",
       "      <td>2.5</td>\n",
       "      <td>2.0</td>\n",
       "      <td>1.5</td>\n",
       "      <td>1.5</td>\n",
       "      <td>1.5</td>\n",
       "    </tr>\n",
       "    <tr>\n",
       "      <td>1</td>\n",
       "      <td>3.0</td>\n",
       "      <td>2.5</td>\n",
       "      <td>3.0</td>\n",
       "      <td>3.0</td>\n",
       "      <td>3.0</td>\n",
       "    </tr>\n",
       "    <tr>\n",
       "      <td>2</td>\n",
       "      <td>3.0</td>\n",
       "      <td>2.5</td>\n",
       "      <td>3.0</td>\n",
       "      <td>3.0</td>\n",
       "      <td>3.0</td>\n",
       "    </tr>\n",
       "    <tr>\n",
       "      <td>3</td>\n",
       "      <td>3.5</td>\n",
       "      <td>3.0</td>\n",
       "      <td>3.0</td>\n",
       "      <td>2.5</td>\n",
       "      <td>3.0</td>\n",
       "    </tr>\n",
       "    <tr>\n",
       "      <td>4</td>\n",
       "      <td>4.0</td>\n",
       "      <td>4.5</td>\n",
       "      <td>4.0</td>\n",
       "      <td>4.0</td>\n",
       "      <td>4.5</td>\n",
       "    </tr>\n",
       "  </tbody>\n",
       "</table>\n",
       "</div>"
      ],
      "text/plain": [
       "   review_appearance  review_palette  review_overall  review_taste  \\\n",
       "0                2.5             2.0             1.5           1.5   \n",
       "1                3.0             2.5             3.0           3.0   \n",
       "2                3.0             2.5             3.0           3.0   \n",
       "3                3.5             3.0             3.0           2.5   \n",
       "4                4.0             4.5             4.0           4.0   \n",
       "\n",
       "   review_aroma  \n",
       "0           1.5  \n",
       "1           3.0  \n",
       "2           3.0  \n",
       "3           3.0  \n",
       "4           4.5  "
      ]
     },
     "execution_count": 30,
     "metadata": {},
     "output_type": "execute_result"
    }
   ],
   "source": [
    "df_q3.head()"
   ]
  },
  {
   "cell_type": "code",
   "execution_count": 31,
   "metadata": {},
   "outputs": [],
   "source": [
    "from sklearn.model_selection import train_test_split\n",
    "\n",
    "np.random.seed(0)\n",
    "df_train, df_test = train_test_split(df_q3, train_size = 0.7, test_size = 0.3, random_state = 100)"
   ]
  },
  {
   "cell_type": "code",
   "execution_count": 32,
   "metadata": {},
   "outputs": [],
   "source": [
    "from sklearn.preprocessing import MinMaxScaler\n",
    "scaler = MinMaxScaler()\n",
    "# Apply scaler() to all the columns except the 'yes-no' and 'dummy' variables\n",
    "num_vars = ['review_appearance', 'review_palette', 'review_overall', 'review_taste', 'review_aroma']\n",
    "df_train[num_vars] = scaler.fit_transform(df_train[num_vars])"
   ]
  },
  {
   "cell_type": "code",
   "execution_count": 33,
   "metadata": {},
   "outputs": [
    {
     "data": {
      "text/html": [
       "<div>\n",
       "<style scoped>\n",
       "    .dataframe tbody tr th:only-of-type {\n",
       "        vertical-align: middle;\n",
       "    }\n",
       "\n",
       "    .dataframe tbody tr th {\n",
       "        vertical-align: top;\n",
       "    }\n",
       "\n",
       "    .dataframe thead th {\n",
       "        text-align: right;\n",
       "    }\n",
       "</style>\n",
       "<table border=\"1\" class=\"dataframe\">\n",
       "  <thead>\n",
       "    <tr style=\"text-align: right;\">\n",
       "      <th></th>\n",
       "      <th>review_appearance</th>\n",
       "      <th>review_palette</th>\n",
       "      <th>review_overall</th>\n",
       "      <th>review_taste</th>\n",
       "      <th>review_aroma</th>\n",
       "    </tr>\n",
       "  </thead>\n",
       "  <tbody>\n",
       "    <tr>\n",
       "      <td>61088</td>\n",
       "      <td>0.750</td>\n",
       "      <td>0.625</td>\n",
       "      <td>0.750</td>\n",
       "      <td>0.625</td>\n",
       "      <td>0.875</td>\n",
       "    </tr>\n",
       "    <tr>\n",
       "      <td>272449</td>\n",
       "      <td>0.500</td>\n",
       "      <td>0.625</td>\n",
       "      <td>0.750</td>\n",
       "      <td>0.625</td>\n",
       "      <td>0.750</td>\n",
       "    </tr>\n",
       "    <tr>\n",
       "      <td>411481</td>\n",
       "      <td>0.500</td>\n",
       "      <td>0.875</td>\n",
       "      <td>0.750</td>\n",
       "      <td>0.625</td>\n",
       "      <td>0.875</td>\n",
       "    </tr>\n",
       "    <tr>\n",
       "      <td>479839</td>\n",
       "      <td>0.750</td>\n",
       "      <td>0.875</td>\n",
       "      <td>0.875</td>\n",
       "      <td>0.750</td>\n",
       "      <td>0.875</td>\n",
       "    </tr>\n",
       "    <tr>\n",
       "      <td>466327</td>\n",
       "      <td>0.375</td>\n",
       "      <td>0.500</td>\n",
       "      <td>0.375</td>\n",
       "      <td>0.625</td>\n",
       "      <td>0.375</td>\n",
       "    </tr>\n",
       "  </tbody>\n",
       "</table>\n",
       "</div>"
      ],
      "text/plain": [
       "        review_appearance  review_palette  review_overall  review_taste  \\\n",
       "61088               0.750           0.625           0.750         0.625   \n",
       "272449              0.500           0.625           0.750         0.625   \n",
       "411481              0.500           0.875           0.750         0.625   \n",
       "479839              0.750           0.875           0.875         0.750   \n",
       "466327              0.375           0.500           0.375         0.625   \n",
       "\n",
       "        review_aroma  \n",
       "61088          0.875  \n",
       "272449         0.750  \n",
       "411481         0.875  \n",
       "479839         0.875  \n",
       "466327         0.375  "
      ]
     },
     "execution_count": 33,
     "metadata": {},
     "output_type": "execute_result"
    }
   ],
   "source": [
    "df_train.head()"
   ]
  },
  {
   "cell_type": "code",
   "execution_count": 34,
   "metadata": {},
   "outputs": [],
   "source": [
    "y_train = df_train.pop('review_overall')\n",
    "x_train = df_train"
   ]
  },
  {
   "cell_type": "code",
   "execution_count": 35,
   "metadata": {},
   "outputs": [],
   "source": [
    "import statsmodels.api as sm  \n",
    "lm = sm.OLS(y_train,x_train).fit()"
   ]
  },
  {
   "cell_type": "code",
   "execution_count": 36,
   "metadata": {},
   "outputs": [
    {
     "name": "stdout",
     "output_type": "stream",
     "text": [
      "                                 OLS Regression Results                                \n",
      "=======================================================================================\n",
      "Dep. Variable:         review_overall   R-squared (uncentered):                   0.979\n",
      "Model:                            OLS   Adj. R-squared (uncentered):              0.979\n",
      "Method:                 Least Squares   F-statistic:                          4.093e+06\n",
      "Date:                Tue, 28 Apr 2020   Prob (F-statistic):                        0.00\n",
      "Time:                        07:41:58   Log-Likelihood:                      2.9122e+05\n",
      "No. Observations:              355850   AIC:                                 -5.824e+05\n",
      "Df Residuals:                  355846   BIC:                                 -5.824e+05\n",
      "Df Model:                           4                                                  \n",
      "Covariance Type:            nonrobust                                                  \n",
      "=====================================================================================\n",
      "                        coef    std err          t      P>|t|      [0.025      0.975]\n",
      "-------------------------------------------------------------------------------------\n",
      "review_appearance     0.0952      0.001     70.877      0.000       0.093       0.098\n",
      "review_palette        0.0674      0.002     44.021      0.000       0.064       0.070\n",
      "review_taste          0.2844      0.002    176.574      0.000       0.281       0.288\n",
      "review_aroma          0.5585      0.002    335.876      0.000       0.555       0.562\n",
      "==============================================================================\n",
      "Omnibus:                    19824.349   Durbin-Watson:                   2.001\n",
      "Prob(Omnibus):                  0.000   Jarque-Bera (JB):            83766.406\n",
      "Skew:                          -0.004   Prob(JB):                         0.00\n",
      "Kurtosis:                       5.377   Cond. No.                         16.8\n",
      "==============================================================================\n",
      "\n",
      "Warnings:\n",
      "[1] Standard Errors assume that the covariance matrix of the errors is correctly specified.\n"
     ]
    }
   ],
   "source": [
    "print(lm.summary())"
   ]
  },
  {
   "cell_type": "code",
   "execution_count": 40,
   "metadata": {},
   "outputs": [],
   "source": [
    "import matplotlib.pyplot as plt\n",
    "import seaborn as sns"
   ]
  },
  {
   "cell_type": "code",
   "execution_count": 41,
   "metadata": {},
   "outputs": [
    {
     "data": {
      "text/plain": [
       "<matplotlib.axes._subplots.AxesSubplot at 0x1f80976e3c8>"
      ]
     },
     "execution_count": 41,
     "metadata": {},
     "output_type": "execute_result"
    },
    {
     "data": {
      "image/png": "[encoded data removed]",
      "text/plain": [
       "<Figure size 1440x720 with 2 Axes>"
      ]
     },
     "metadata": {
      "needs_background": "light"
     },
     "output_type": "display_data"
    }
   ],
   "source": [
    "plt.figure(figsize = (20,10))  \n",
    "sns.heatmap(x_train.corr(),annot = True,cmap=\"YlGnBu\")"
   ]
  },
  {
   "cell_type": "markdown",
   "metadata": {},
   "source": [
    "### Answer:\n",
    "\n",
    "#### Review Palette and Review_Taste seems to be more important to user than appearance"
   ]
  },
  {
   "cell_type": "code",
   "execution_count": 42,
   "metadata": {},
   "outputs": [],
   "source": [
    "y_train_price = lm.predict(x_train)\n"
   ]
  },
  {
   "cell_type": "code",
   "execution_count": 43,
   "metadata": {},
   "outputs": [
    {
     "data": {
      "text/plain": [
       "Text(0.5, 0, 'Errors')"
      ]
     },
     "execution_count": 43,
     "metadata": {},
     "output_type": "execute_result"
    },
    {
     "data": {
      "image/png": "[encoded data removed]",
      "text/plain": [
       "<Figure size 432x288 with 1 Axes>"
      ]
     },
     "metadata": {
      "needs_background": "light"
     },
     "output_type": "display_data"
    }
   ],
   "source": [
    "fig = plt.figure()\n",
    "sns.distplot((y_train - y_train_price), bins = 20)\n",
    "fig.suptitle('Error Terms', fontsize = 20)                  # Plot heading \n",
    "plt.xlabel('Errors', fontsize = 18)                         # X-label"
   ]
  },
  {
   "cell_type": "code",
   "execution_count": 46,
   "metadata": {},
   "outputs": [],
   "source": [
    "#sns.pairplot(df_q3)\n",
    "#plt.show()"
   ]
  },
  {
   "cell_type": "markdown",
   "metadata": {},
   "source": [
    "## Q4 - If you were to recommend 3 beers to your friends based on this data which ones will you recommend?"
   ]
  },
  {
   "cell_type": "code",
   "execution_count": 65,
   "metadata": {},
   "outputs": [
    {
     "data": {
      "text/plain": [
       "Index(['beer_ABV', 'beer_beerId', 'beer_brewerId', 'beer_name', 'beer_style',\n",
       "       'review_appearance', 'review_palette', 'review_overall', 'review_taste',\n",
       "       'review_profileName', 'review_aroma', 'review_text', 'Review_Timestamp',\n",
       "       'Year'],\n",
       "      dtype='object')"
      ]
     },
     "execution_count": 65,
     "metadata": {},
     "output_type": "execute_result"
    }
   ],
   "source": [
    "filtered_df.columns"
   ]
  },
  {
   "cell_type": "code",
   "execution_count": 67,
   "metadata": {},
   "outputs": [],
   "source": [
    "idx = filtered_df.groupby(by=['review_palette','review_taste'])['review_overall'].idxmax()\n"
   ]
  },
  {
   "cell_type": "code",
   "execution_count": 71,
   "metadata": {},
   "outputs": [],
   "source": [
    "q4_df = filtered_df.loc[idx,].sort_values(by='review_overall', ascending=False)"
   ]
  },
  {
   "cell_type": "code",
   "execution_count": 91,
   "metadata": {},
   "outputs": [],
   "source": [
    "top_3_beers = q4_df[q4_df['review_overall'] > 4 ].groupby(['beer_beerId']).agg({'review_palette':'sum','review_taste':'sum'}).sort_values(by=['review_palette','review_taste'''], ascending=False).head(3)"
   ]
  },
  {
   "cell_type": "code",
   "execution_count": 101,
   "metadata": {},
   "outputs": [],
   "source": [
    "a = top_3_beers.reset_index().beer_beerId"
   ]
  },
  {
   "cell_type": "code",
   "execution_count": 109,
   "metadata": {},
   "outputs": [],
   "source": [
    "q4_final = q4_df[q4_df['beer_beerId'].isin(a)][['beer_beerId','beer_name','beer_style']]"
   ]
  },
  {
   "cell_type": "code",
   "execution_count": 113,
   "metadata": {},
   "outputs": [
    {
     "data": {
      "text/html": [
       "<div>\n",
       "<style scoped>\n",
       "    .dataframe tbody tr th:only-of-type {\n",
       "        vertical-align: middle;\n",
       "    }\n",
       "\n",
       "    .dataframe tbody tr th {\n",
       "        vertical-align: top;\n",
       "    }\n",
       "\n",
       "    .dataframe thead th {\n",
       "        text-align: right;\n",
       "    }\n",
       "</style>\n",
       "<table border=\"1\" class=\"dataframe\">\n",
       "  <thead>\n",
       "    <tr style=\"text-align: right;\">\n",
       "      <th></th>\n",
       "      <th>beer_beerId</th>\n",
       "      <th>beer_name</th>\n",
       "      <th>beer_style</th>\n",
       "    </tr>\n",
       "  </thead>\n",
       "  <tbody>\n",
       "    <tr>\n",
       "      <td>1129</td>\n",
       "      <td>436</td>\n",
       "      <td>Amstel Light</td>\n",
       "      <td>Light Lager</td>\n",
       "    </tr>\n",
       "    <tr>\n",
       "      <td>179</td>\n",
       "      <td>25414</td>\n",
       "      <td>Caldera Pale Ale</td>\n",
       "      <td>American Pale Ale (APA)</td>\n",
       "    </tr>\n",
       "    <tr>\n",
       "      <td>8980</td>\n",
       "      <td>29687</td>\n",
       "      <td>Jefferson's Reserve Bourbon Barrel Stout</td>\n",
       "      <td>American Double / Imperial Stout</td>\n",
       "    </tr>\n",
       "  </tbody>\n",
       "</table>\n",
       "</div>"
      ],
      "text/plain": [
       "      beer_beerId                                 beer_name  \\\n",
       "1129          436                              Amstel Light   \n",
       "179         25414                          Caldera Pale Ale   \n",
       "8980        29687  Jefferson's Reserve Bourbon Barrel Stout   \n",
       "\n",
       "                            beer_style  \n",
       "1129                       Light Lager  \n",
       "179            American Pale Ale (APA)  \n",
       "8980  American Double / Imperial Stout  "
      ]
     },
     "execution_count": 113,
     "metadata": {},
     "output_type": "execute_result"
    }
   ],
   "source": [
    "q4_final.drop_duplicates()"
   ]
  },
  {
   "cell_type": "markdown",
   "metadata": {},
   "source": [
    "#### Answer : I would recommend the above beers to my friends"
   ]
  },
  {
   "cell_type": "markdown",
   "metadata": {},
   "source": [
    "## NLP Based Recommendation Engine Code"
   ]
  },
  {
   "cell_type": "code",
   "execution_count": 47,
   "metadata": {},
   "outputs": [
    {
     "data": {
      "text/plain": [
       "Index(['beer_ABV', 'beer_beerId', 'beer_brewerId', 'beer_name', 'beer_style',\n",
       "       'review_appearance', 'review_palette', 'review_overall', 'review_taste',\n",
       "       'review_profileName', 'review_aroma', 'review_text',\n",
       "       'Review_Timestamp'],\n",
       "      dtype='object')"
      ]
     },
     "execution_count": 47,
     "metadata": {},
     "output_type": "execute_result"
    }
   ],
   "source": [
    "beer_df.columns"
   ]
  },
  {
   "cell_type": "code",
   "execution_count": 48,
   "metadata": {},
   "outputs": [
    {
     "data": {
      "text/html": [
       "<div>\n",
       "<style scoped>\n",
       "    .dataframe tbody tr th:only-of-type {\n",
       "        vertical-align: middle;\n",
       "    }\n",
       "\n",
       "    .dataframe tbody tr th {\n",
       "        vertical-align: top;\n",
       "    }\n",
       "\n",
       "    .dataframe thead th {\n",
       "        text-align: right;\n",
       "    }\n",
       "</style>\n",
       "<table border=\"1\" class=\"dataframe\">\n",
       "  <thead>\n",
       "    <tr style=\"text-align: right;\">\n",
       "      <th></th>\n",
       "      <th>beer_ABV</th>\n",
       "      <th>beer_beerId</th>\n",
       "      <th>beer_brewerId</th>\n",
       "      <th>beer_name</th>\n",
       "      <th>beer_style</th>\n",
       "      <th>review_appearance</th>\n",
       "      <th>review_palette</th>\n",
       "      <th>review_overall</th>\n",
       "      <th>review_taste</th>\n",
       "      <th>review_profileName</th>\n",
       "      <th>review_aroma</th>\n",
       "      <th>review_text</th>\n",
       "      <th>Review_Timestamp</th>\n",
       "    </tr>\n",
       "  </thead>\n",
       "  <tbody>\n",
       "    <tr>\n",
       "      <td>3706</td>\n",
       "      <td>10.5</td>\n",
       "      <td>57110</td>\n",
       "      <td>14879</td>\n",
       "      <td>D.O.R.I.S. The Destroyer Double Imperial Stout</td>\n",
       "      <td>Russian Imperial Stout</td>\n",
       "      <td>5.0</td>\n",
       "      <td>4.5</td>\n",
       "      <td>4.5</td>\n",
       "      <td>4.0</td>\n",
       "      <td>Retail1LO</td>\n",
       "      <td>4.5</td>\n",
       "      <td>NaN</td>\n",
       "      <td>2011-08-08 23:52:00</td>\n",
       "    </tr>\n",
       "    <tr>\n",
       "      <td>5375</td>\n",
       "      <td>9.4</td>\n",
       "      <td>33644</td>\n",
       "      <td>14879</td>\n",
       "      <td>B.O.R.I.S. The Crusher Oatmeal-Imperial Stout</td>\n",
       "      <td>Russian Imperial Stout</td>\n",
       "      <td>5.0</td>\n",
       "      <td>5.0</td>\n",
       "      <td>4.5</td>\n",
       "      <td>4.5</td>\n",
       "      <td>corby112</td>\n",
       "      <td>5.0</td>\n",
       "      <td>NaN</td>\n",
       "      <td>2008-11-28 08:49:18</td>\n",
       "    </tr>\n",
       "    <tr>\n",
       "      <td>14804</td>\n",
       "      <td>9.5</td>\n",
       "      <td>25884</td>\n",
       "      <td>12224</td>\n",
       "      <td>aibo</td>\n",
       "      <td>Euro Strong Lager</td>\n",
       "      <td>3.0</td>\n",
       "      <td>3.5</td>\n",
       "      <td>4.0</td>\n",
       "      <td>3.0</td>\n",
       "      <td>Thanby</td>\n",
       "      <td>3.5</td>\n",
       "      <td>NaN</td>\n",
       "      <td>2007-09-02 23:19:35</td>\n",
       "    </tr>\n",
       "    <tr>\n",
       "      <td>17009</td>\n",
       "      <td>12.0</td>\n",
       "      <td>17538</td>\n",
       "      <td>1199</td>\n",
       "      <td>Founders Devil Dancer</td>\n",
       "      <td>American Double / Imperial IPA</td>\n",
       "      <td>4.5</td>\n",
       "      <td>5.0</td>\n",
       "      <td>4.5</td>\n",
       "      <td>4.0</td>\n",
       "      <td>Retail1LO</td>\n",
       "      <td>4.0</td>\n",
       "      <td>NaN</td>\n",
       "      <td>2011-07-30 19:05:07</td>\n",
       "    </tr>\n",
       "    <tr>\n",
       "      <td>17568</td>\n",
       "      <td>12.0</td>\n",
       "      <td>17538</td>\n",
       "      <td>1199</td>\n",
       "      <td>Founders Devil Dancer</td>\n",
       "      <td>American Double / Imperial IPA</td>\n",
       "      <td>4.5</td>\n",
       "      <td>4.5</td>\n",
       "      <td>5.0</td>\n",
       "      <td>5.0</td>\n",
       "      <td>corby112</td>\n",
       "      <td>5.0</td>\n",
       "      <td>NaN</td>\n",
       "      <td>2008-11-27 17:53:10</td>\n",
       "    </tr>\n",
       "  </tbody>\n",
       "</table>\n",
       "</div>"
      ],
      "text/plain": [
       "       beer_ABV  beer_beerId  beer_brewerId  \\\n",
       "3706       10.5        57110          14879   \n",
       "5375        9.4        33644          14879   \n",
       "14804       9.5        25884          12224   \n",
       "17009      12.0        17538           1199   \n",
       "17568      12.0        17538           1199   \n",
       "\n",
       "                                            beer_name  \\\n",
       "3706   D.O.R.I.S. The Destroyer Double Imperial Stout   \n",
       "5375    B.O.R.I.S. The Crusher Oatmeal-Imperial Stout   \n",
       "14804                                           aibo   \n",
       "17009                           Founders Devil Dancer   \n",
       "17568                           Founders Devil Dancer   \n",
       "\n",
       "                           beer_style  review_appearance  review_palette  \\\n",
       "3706           Russian Imperial Stout                5.0             4.5   \n",
       "5375           Russian Imperial Stout                5.0             5.0   \n",
       "14804               Euro Strong Lager                3.0             3.5   \n",
       "17009  American Double / Imperial IPA                4.5             5.0   \n",
       "17568  American Double / Imperial IPA                4.5             4.5   \n",
       "\n",
       "       review_overall  review_taste review_profileName  review_aroma  \\\n",
       "3706              4.5           4.0          Retail1LO           4.5   \n",
       "5375              4.5           4.5           corby112           5.0   \n",
       "14804             4.0           3.0             Thanby           3.5   \n",
       "17009             4.5           4.0          Retail1LO           4.0   \n",
       "17568             5.0           5.0           corby112           5.0   \n",
       "\n",
       "      review_text    Review_Timestamp  \n",
       "3706          NaN 2011-08-08 23:52:00  \n",
       "5375          NaN 2008-11-28 08:49:18  \n",
       "14804         NaN 2007-09-02 23:19:35  \n",
       "17009         NaN 2011-07-30 19:05:07  \n",
       "17568         NaN 2008-11-27 17:53:10  "
      ]
     },
     "execution_count": 48,
     "metadata": {},
     "output_type": "execute_result"
    }
   ],
   "source": [
    "# Finding all beers with Null Description\n",
    "beer_df[beer_df['review_text'].isnull() == True].head()"
   ]
  },
  {
   "cell_type": "code",
   "execution_count": 49,
   "metadata": {},
   "outputs": [],
   "source": [
    "# Choosing Text Fields for NLP Processing\n",
    "beer_descr = beer_df[~beer_df['review_text'].isnull()][['beer_name','beer_style','review_text']]"
   ]
  },
  {
   "cell_type": "code",
   "execution_count": 50,
   "metadata": {},
   "outputs": [
    {
     "data": {
      "text/plain": [
       "(528751, 3)"
      ]
     },
     "execution_count": 50,
     "metadata": {},
     "output_type": "execute_result"
    }
   ],
   "source": [
    "beer_descr.shape"
   ]
  },
  {
   "cell_type": "code",
   "execution_count": 51,
   "metadata": {},
   "outputs": [
    {
     "data": {
      "text/html": [
       "<div>\n",
       "<style scoped>\n",
       "    .dataframe tbody tr th:only-of-type {\n",
       "        vertical-align: middle;\n",
       "    }\n",
       "\n",
       "    .dataframe tbody tr th {\n",
       "        vertical-align: top;\n",
       "    }\n",
       "\n",
       "    .dataframe thead th {\n",
       "        text-align: right;\n",
       "    }\n",
       "</style>\n",
       "<table border=\"1\" class=\"dataframe\">\n",
       "  <thead>\n",
       "    <tr style=\"text-align: right;\">\n",
       "      <th></th>\n",
       "      <th>beer_name</th>\n",
       "      <th>beer_style</th>\n",
       "      <th>review_text</th>\n",
       "    </tr>\n",
       "  </thead>\n",
       "  <tbody>\n",
       "    <tr>\n",
       "      <td>0</td>\n",
       "      <td>Sausa Weizen</td>\n",
       "      <td>Hefeweizen</td>\n",
       "      <td>A lot of foam. But a lot. In the smell some ba...</td>\n",
       "    </tr>\n",
       "    <tr>\n",
       "      <td>1</td>\n",
       "      <td>Red Moon</td>\n",
       "      <td>English Strong Ale</td>\n",
       "      <td>Dark red color, light beige foam, average. In ...</td>\n",
       "    </tr>\n",
       "    <tr>\n",
       "      <td>2</td>\n",
       "      <td>Black Horse Black Beer</td>\n",
       "      <td>Foreign / Export Stout</td>\n",
       "      <td>Almost totally black. Beige foam, quite compac...</td>\n",
       "    </tr>\n",
       "    <tr>\n",
       "      <td>3</td>\n",
       "      <td>Sausa Pils</td>\n",
       "      <td>German Pilsener</td>\n",
       "      <td>Golden yellow color. White, compact foam, quit...</td>\n",
       "    </tr>\n",
       "    <tr>\n",
       "      <td>4</td>\n",
       "      <td>Cauldron DIPA</td>\n",
       "      <td>American Double / Imperial IPA</td>\n",
       "      <td>According to the website, the style for the Ca...</td>\n",
       "    </tr>\n",
       "    <tr>\n",
       "      <td>5</td>\n",
       "      <td>Caldera Ginger Beer</td>\n",
       "      <td>Herbed / Spiced Beer</td>\n",
       "      <td>Poured from the bottle into a Chimay goblet. A...</td>\n",
       "    </tr>\n",
       "    <tr>\n",
       "      <td>6</td>\n",
       "      <td>Caldera Ginger Beer</td>\n",
       "      <td>Herbed / Spiced Beer</td>\n",
       "      <td>22 oz bottle from \"Lifesource\" Salem. $3.95 Ni...</td>\n",
       "    </tr>\n",
       "    <tr>\n",
       "      <td>7</td>\n",
       "      <td>Caldera Ginger Beer</td>\n",
       "      <td>Herbed / Spiced Beer</td>\n",
       "      <td>Bottle says \"Malt beverage brewed with Ginger ...</td>\n",
       "    </tr>\n",
       "    <tr>\n",
       "      <td>8</td>\n",
       "      <td>Caldera Ginger Beer</td>\n",
       "      <td>Herbed / Spiced Beer</td>\n",
       "      <td>I'm not sure why I picked this up... I like gi...</td>\n",
       "    </tr>\n",
       "    <tr>\n",
       "      <td>9</td>\n",
       "      <td>Caldera Ginger Beer</td>\n",
       "      <td>Herbed / Spiced Beer</td>\n",
       "      <td>Poured from a 22oz bomber into my Drie Fontein...</td>\n",
       "    </tr>\n",
       "  </tbody>\n",
       "</table>\n",
       "</div>"
      ],
      "text/plain": [
       "                beer_name                      beer_style  \\\n",
       "0            Sausa Weizen                      Hefeweizen   \n",
       "1                Red Moon              English Strong Ale   \n",
       "2  Black Horse Black Beer          Foreign / Export Stout   \n",
       "3              Sausa Pils                 German Pilsener   \n",
       "4           Cauldron DIPA  American Double / Imperial IPA   \n",
       "5     Caldera Ginger Beer            Herbed / Spiced Beer   \n",
       "6     Caldera Ginger Beer            Herbed / Spiced Beer   \n",
       "7     Caldera Ginger Beer            Herbed / Spiced Beer   \n",
       "8     Caldera Ginger Beer            Herbed / Spiced Beer   \n",
       "9     Caldera Ginger Beer            Herbed / Spiced Beer   \n",
       "\n",
       "                                         review_text  \n",
       "0  A lot of foam. But a lot. In the smell some ba...  \n",
       "1  Dark red color, light beige foam, average. In ...  \n",
       "2  Almost totally black. Beige foam, quite compac...  \n",
       "3  Golden yellow color. White, compact foam, quit...  \n",
       "4  According to the website, the style for the Ca...  \n",
       "5  Poured from the bottle into a Chimay goblet. A...  \n",
       "6  22 oz bottle from \"Lifesource\" Salem. $3.95 Ni...  \n",
       "7  Bottle says \"Malt beverage brewed with Ginger ...  \n",
       "8  I'm not sure why I picked this up... I like gi...  \n",
       "9  Poured from a 22oz bomber into my Drie Fontein...  "
      ]
     },
     "execution_count": 51,
     "metadata": {},
     "output_type": "execute_result"
    }
   ],
   "source": [
    "beer_descr.head(10)"
   ]
  },
  {
   "cell_type": "code",
   "execution_count": 52,
   "metadata": {},
   "outputs": [],
   "source": [
    "# Initializing Stemmer for English Language\n",
    "stemmer = SnowballStemmer(\"english\")"
   ]
  },
  {
   "cell_type": "code",
   "execution_count": 53,
   "metadata": {},
   "outputs": [],
   "source": [
    "beer_descr['stemmed'] = beer_descr.review_ text.map(lambda x: ' '.join([stemmer.stem(y) for y in x.split(' ')]))"
   ]
  },
  {
   "cell_type": "code",
   "execution_count": 54,
   "metadata": {},
   "outputs": [
    {
     "data": {
      "text/html": [
       "<div>\n",
       "<style scoped>\n",
       "    .dataframe tbody tr th:only-of-type {\n",
       "        vertical-align: middle;\n",
       "    }\n",
       "\n",
       "    .dataframe tbody tr th {\n",
       "        vertical-align: top;\n",
       "    }\n",
       "\n",
       "    .dataframe thead th {\n",
       "        text-align: right;\n",
       "    }\n",
       "</style>\n",
       "<table border=\"1\" class=\"dataframe\">\n",
       "  <thead>\n",
       "    <tr style=\"text-align: right;\">\n",
       "      <th></th>\n",
       "      <th>beer_name</th>\n",
       "      <th>beer_style</th>\n",
       "      <th>review_text</th>\n",
       "      <th>stemmed</th>\n",
       "    </tr>\n",
       "  </thead>\n",
       "  <tbody>\n",
       "    <tr>\n",
       "      <td>0</td>\n",
       "      <td>Sausa Weizen</td>\n",
       "      <td>Hefeweizen</td>\n",
       "      <td>A lot of foam. But a lot. In the smell some ba...</td>\n",
       "      <td>a lot of foam. but a lot. in the smell some ba...</td>\n",
       "    </tr>\n",
       "    <tr>\n",
       "      <td>1</td>\n",
       "      <td>Red Moon</td>\n",
       "      <td>English Strong Ale</td>\n",
       "      <td>Dark red color, light beige foam, average. In ...</td>\n",
       "      <td>dark red color, light beig foam, average. in t...</td>\n",
       "    </tr>\n",
       "    <tr>\n",
       "      <td>2</td>\n",
       "      <td>Black Horse Black Beer</td>\n",
       "      <td>Foreign / Export Stout</td>\n",
       "      <td>Almost totally black. Beige foam, quite compac...</td>\n",
       "      <td>almost total black. beig foam, quit compact, n...</td>\n",
       "    </tr>\n",
       "    <tr>\n",
       "      <td>3</td>\n",
       "      <td>Sausa Pils</td>\n",
       "      <td>German Pilsener</td>\n",
       "      <td>Golden yellow color. White, compact foam, quit...</td>\n",
       "      <td>golden yellow color. white, compact foam, quit...</td>\n",
       "    </tr>\n",
       "    <tr>\n",
       "      <td>4</td>\n",
       "      <td>Cauldron DIPA</td>\n",
       "      <td>American Double / Imperial IPA</td>\n",
       "      <td>According to the website, the style for the Ca...</td>\n",
       "      <td>accord to the website, the style for the calde...</td>\n",
       "    </tr>\n",
       "  </tbody>\n",
       "</table>\n",
       "</div>"
      ],
      "text/plain": [
       "                beer_name                      beer_style  \\\n",
       "0            Sausa Weizen                      Hefeweizen   \n",
       "1                Red Moon              English Strong Ale   \n",
       "2  Black Horse Black Beer          Foreign / Export Stout   \n",
       "3              Sausa Pils                 German Pilsener   \n",
       "4           Cauldron DIPA  American Double / Imperial IPA   \n",
       "\n",
       "                                         review_text  \\\n",
       "0  A lot of foam. But a lot. In the smell some ba...   \n",
       "1  Dark red color, light beige foam, average. In ...   \n",
       "2  Almost totally black. Beige foam, quite compac...   \n",
       "3  Golden yellow color. White, compact foam, quit...   \n",
       "4  According to the website, the style for the Ca...   \n",
       "\n",
       "                                             stemmed  \n",
       "0  a lot of foam. but a lot. in the smell some ba...  \n",
       "1  dark red color, light beig foam, average. in t...  \n",
       "2  almost total black. beig foam, quit compact, n...  \n",
       "3  golden yellow color. white, compact foam, quit...  \n",
       "4  accord to the website, the style for the calde...  "
      ]
     },
     "execution_count": 54,
     "metadata": {},
     "output_type": "execute_result"
    }
   ],
   "source": [
    "beer_descr.head()"
   ]
  },
  {
   "cell_type": "code",
   "execution_count": 55,
   "metadata": {},
   "outputs": [],
   "source": [
    "# Using countVectorizer to count how many times each term shows up,\n",
    "# tfidf transformer to generated weight matrix\n",
    "cvec = CountVectorizer(\n",
    "    stop_words = \"english\",\n",
    "    min_df = 0.01,\n",
    "    max_df = 0.60, # Optimization would be needed\n",
    "    ngram_range = (1,2)\n",
    ")"
   ]
  },
  {
   "cell_type": "code",
   "execution_count": 56,
   "metadata": {},
   "outputs": [
    {
     "data": {
      "text/plain": [
       "CountVectorizer(analyzer='word', binary=False, decode_error='strict',\n",
       "                dtype=<class 'numpy.int64'>, encoding='utf-8', input='content',\n",
       "                lowercase=True, max_df=0.6, max_features=None, min_df=0.01,\n",
       "                ngram_range=(1, 2), preprocessor=None, stop_words='english',\n",
       "                strip_accents=None, token_pattern='(?u)\\\\b\\\\w\\\\w+\\\\b',\n",
       "                tokenizer=None, vocabulary=None)"
      ]
     },
     "execution_count": 56,
     "metadata": {},
     "output_type": "execute_result"
    }
   ],
   "source": [
    "cvec"
   ]
  },
  {
   "cell_type": "code",
   "execution_count": 57,
   "metadata": {},
   "outputs": [
    {
     "data": {
      "text/plain": [
       "[('lot', 618),\n",
       " ('foam', 401),\n",
       " ('smell', 930),\n",
       " ('banana', 73),\n",
       " ('tart', 1004),\n",
       " ('good', 439),\n",
       " ('start', 959),\n",
       " ('quit', 823),\n",
       " ('dark', 259),\n",
       " ('orang', 729),\n",
       " ('color', 219),\n",
       " ('live', 609),\n",
       " ('carbon', 169),\n",
       " ('taste', 1011),\n",
       " ('yeast', 1120),\n",
       " ('orang color', 730),\n",
       " ('red', 843),\n",
       " ('light', 586),\n",
       " ('beig', 97),\n",
       " ('average', 61)]"
      ]
     },
     "execution_count": 57,
     "metadata": {},
     "output_type": "execute_result"
    }
   ],
   "source": [
    "cvec.fit(beer_descr['stemmed'])\n",
    "list(islice(cvec.vocabulary_.items(),20))"
   ]
  },
  {
   "cell_type": "code",
   "execution_count": 58,
   "metadata": {},
   "outputs": [
    {
     "name": "stdout",
     "output_type": "stream",
     "text": [
      "sparse matrix shape (528751, 1126)\n",
      "nonzero count: 25033466\n",
      "Sparsity : 4.20%\n"
     ]
    }
   ],
   "source": [
    "cvec_counts = cvec.transform(beer_descr['stemmed'])\n",
    "print('sparse matrix shape', cvec_counts.shape)\n",
    "print('nonzero count:', cvec_counts.nnz)\n",
    "print('Sparsity : %.2f%%' % (100.0 * cvec_counts.nnz / (cvec_counts.shape[0] * cvec_counts.shape[1])))"
   ]
  },
  {
   "cell_type": "code",
   "execution_count": 59,
   "metadata": {},
   "outputs": [
    {
     "data": {
      "text/html": [
       "<div>\n",
       "<style scoped>\n",
       "    .dataframe tbody tr th:only-of-type {\n",
       "        vertical-align: middle;\n",
       "    }\n",
       "\n",
       "    .dataframe tbody tr th {\n",
       "        vertical-align: top;\n",
       "    }\n",
       "\n",
       "    .dataframe thead th {\n",
       "        text-align: right;\n",
       "    }\n",
       "</style>\n",
       "<table border=\"1\" class=\"dataframe\">\n",
       "  <thead>\n",
       "    <tr style=\"text-align: right;\">\n",
       "      <th></th>\n",
       "      <th>term</th>\n",
       "      <th>occurances</th>\n",
       "    </tr>\n",
       "  </thead>\n",
       "  <tbody>\n",
       "    <tr>\n",
       "      <td>1065</td>\n",
       "      <td>veri</td>\n",
       "      <td>520121</td>\n",
       "    </tr>\n",
       "    <tr>\n",
       "      <td>688</td>\n",
       "      <td>nice</td>\n",
       "      <td>381381</td>\n",
       "    </tr>\n",
       "    <tr>\n",
       "      <td>627</td>\n",
       "      <td>malt</td>\n",
       "      <td>380889</td>\n",
       "    </tr>\n",
       "    <tr>\n",
       "      <td>516</td>\n",
       "      <td>hop</td>\n",
       "      <td>377226</td>\n",
       "    </tr>\n",
       "    <tr>\n",
       "      <td>986</td>\n",
       "      <td>sweet</td>\n",
       "      <td>368247</td>\n",
       "    </tr>\n",
       "    <tr>\n",
       "      <td>1005</td>\n",
       "      <td>tast</td>\n",
       "      <td>357839</td>\n",
       "    </tr>\n",
       "    <tr>\n",
       "      <td>586</td>\n",
       "      <td>light</td>\n",
       "      <td>341844</td>\n",
       "    </tr>\n",
       "    <tr>\n",
       "      <td>389</td>\n",
       "      <td>flavor</td>\n",
       "      <td>337974</td>\n",
       "    </tr>\n",
       "    <tr>\n",
       "      <td>439</td>\n",
       "      <td>good</td>\n",
       "      <td>336613</td>\n",
       "    </tr>\n",
       "    <tr>\n",
       "      <td>598</td>\n",
       "      <td>like</td>\n",
       "      <td>306905</td>\n",
       "    </tr>\n",
       "    <tr>\n",
       "      <td>930</td>\n",
       "      <td>smell</td>\n",
       "      <td>292541</td>\n",
       "    </tr>\n",
       "    <tr>\n",
       "      <td>52</td>\n",
       "      <td>aroma</td>\n",
       "      <td>252790</td>\n",
       "    </tr>\n",
       "    <tr>\n",
       "      <td>108</td>\n",
       "      <td>bit</td>\n",
       "      <td>247896</td>\n",
       "    </tr>\n",
       "    <tr>\n",
       "      <td>378</td>\n",
       "      <td>finish</td>\n",
       "      <td>241559</td>\n",
       "    </tr>\n",
       "    <tr>\n",
       "      <td>219</td>\n",
       "      <td>color</td>\n",
       "      <td>233545</td>\n",
       "    </tr>\n",
       "    <tr>\n",
       "      <td>259</td>\n",
       "      <td>dark</td>\n",
       "      <td>232570</td>\n",
       "    </tr>\n",
       "    <tr>\n",
       "      <td>111</td>\n",
       "      <td>bitter</td>\n",
       "      <td>218230</td>\n",
       "    </tr>\n",
       "    <tr>\n",
       "      <td>605</td>\n",
       "      <td>littl</td>\n",
       "      <td>208330</td>\n",
       "    </tr>\n",
       "    <tr>\n",
       "      <td>921</td>\n",
       "      <td>slight</td>\n",
       "      <td>205209</td>\n",
       "    </tr>\n",
       "    <tr>\n",
       "      <td>425</td>\n",
       "      <td>glass</td>\n",
       "      <td>205132</td>\n",
       "    </tr>\n",
       "  </tbody>\n",
       "</table>\n",
       "</div>"
      ],
      "text/plain": [
       "        term  occurances\n",
       "1065    veri      520121\n",
       "688     nice      381381\n",
       "627     malt      380889\n",
       "516      hop      377226\n",
       "986    sweet      368247\n",
       "1005    tast      357839\n",
       "586    light      341844\n",
       "389   flavor      337974\n",
       "439     good      336613\n",
       "598     like      306905\n",
       "930    smell      292541\n",
       "52     aroma      252790\n",
       "108      bit      247896\n",
       "378   finish      241559\n",
       "219    color      233545\n",
       "259     dark      232570\n",
       "111   bitter      218230\n",
       "605    littl      208330\n",
       "921   slight      205209\n",
       "425    glass      205132"
      ]
     },
     "execution_count": 59,
     "metadata": {},
     "output_type": "execute_result"
    }
   ],
   "source": [
    "# top 20 terms\n",
    "occ = np.asarray(cvec_counts.sum(axis=0)).ravel().tolist()\n",
    "count_df = pd.DataFrame({'term': cvec.get_feature_names(), 'occurances': occ})\n",
    "count_df.sort_values(by='occurances', ascending=False).head(20)"
   ]
  },
  {
   "cell_type": "code",
   "execution_count": 60,
   "metadata": {},
   "outputs": [],
   "source": [
    "# Using TfIdf Transformer to calculate weights\n",
    "transformer = TfidfTransformer()\n",
    "transformed_weights = transformer.fit_transform(cvec_counts)\n"
   ]
  },
  {
   "cell_type": "code",
   "execution_count": 62,
   "metadata": {},
   "outputs": [],
   "source": [
    "# compute the similarity of a beer choice\n",
    "idx = beer_descr.index.get_indexer_for((beer_descr[beer_descr['beer_style']=='Tripel'].index))[0]"
   ]
  },
  {
   "cell_type": "code",
   "execution_count": 63,
   "metadata": {},
   "outputs": [],
   "source": [
    "sims = cosine_similarity(transformed_weights[idx,:],transformed_weights)"
   ]
  },
  {
   "cell_type": "code",
   "execution_count": 64,
   "metadata": {},
   "outputs": [
    {
     "data": {
      "text/html": [
       "<div>\n",
       "<style scoped>\n",
       "    .dataframe tbody tr th:only-of-type {\n",
       "        vertical-align: middle;\n",
       "    }\n",
       "\n",
       "    .dataframe tbody tr th {\n",
       "        vertical-align: top;\n",
       "    }\n",
       "\n",
       "    .dataframe thead th {\n",
       "        text-align: right;\n",
       "    }\n",
       "</style>\n",
       "<table border=\"1\" class=\"dataframe\">\n",
       "  <thead>\n",
       "    <tr style=\"text-align: right;\">\n",
       "      <th></th>\n",
       "      <th>beer_name</th>\n",
       "      <th>beer_style</th>\n",
       "      <th>sims</th>\n",
       "    </tr>\n",
       "  </thead>\n",
       "  <tbody>\n",
       "    <tr>\n",
       "      <td>1854</td>\n",
       "      <td>Dixie Crystal Beer</td>\n",
       "      <td>Tripel</td>\n",
       "      <td>1.000000</td>\n",
       "    </tr>\n",
       "    <tr>\n",
       "      <td>207462</td>\n",
       "      <td>Trippel Belgian Style Ale</td>\n",
       "      <td>Tripel</td>\n",
       "      <td>0.400943</td>\n",
       "    </tr>\n",
       "    <tr>\n",
       "      <td>170557</td>\n",
       "      <td>Arbor Brewing Phat Abbot Belgian Triple</td>\n",
       "      <td>Tripel</td>\n",
       "      <td>0.372985</td>\n",
       "    </tr>\n",
       "    <tr>\n",
       "      <td>373145</td>\n",
       "      <td>La Fin Du Monde</td>\n",
       "      <td>Tripel</td>\n",
       "      <td>0.362921</td>\n",
       "    </tr>\n",
       "    <tr>\n",
       "      <td>259444</td>\n",
       "      <td>The Ugly American</td>\n",
       "      <td>Tripel</td>\n",
       "      <td>0.355088</td>\n",
       "    </tr>\n",
       "    <tr>\n",
       "      <td>268022</td>\n",
       "      <td>Kerberos Tripel</td>\n",
       "      <td>Tripel</td>\n",
       "      <td>0.349870</td>\n",
       "    </tr>\n",
       "    <tr>\n",
       "      <td>385413</td>\n",
       "      <td>La Trappe Tripel (Koningshoeven / Dominus)</td>\n",
       "      <td>Tripel</td>\n",
       "      <td>0.346235</td>\n",
       "    </tr>\n",
       "    <tr>\n",
       "      <td>373226</td>\n",
       "      <td>La Fin Du Monde</td>\n",
       "      <td>Tripel</td>\n",
       "      <td>0.346035</td>\n",
       "    </tr>\n",
       "    <tr>\n",
       "      <td>309220</td>\n",
       "      <td>Longshot Friar Hop Ale</td>\n",
       "      <td>Belgian IPA</td>\n",
       "      <td>0.338575</td>\n",
       "    </tr>\n",
       "    <tr>\n",
       "      <td>99013</td>\n",
       "      <td>St. Sebastiaan Golden</td>\n",
       "      <td>Tripel</td>\n",
       "      <td>0.335602</td>\n",
       "    </tr>\n",
       "    <tr>\n",
       "      <td>192367</td>\n",
       "      <td>Green Flash Le Freak</td>\n",
       "      <td>Belgian IPA</td>\n",
       "      <td>0.334993</td>\n",
       "    </tr>\n",
       "    <tr>\n",
       "      <td>373162</td>\n",
       "      <td>La Fin Du Monde</td>\n",
       "      <td>Tripel</td>\n",
       "      <td>0.334107</td>\n",
       "    </tr>\n",
       "    <tr>\n",
       "      <td>242989</td>\n",
       "      <td>Augustijn Ale</td>\n",
       "      <td>Tripel</td>\n",
       "      <td>0.333805</td>\n",
       "    </tr>\n",
       "    <tr>\n",
       "      <td>154372</td>\n",
       "      <td>Tripel</td>\n",
       "      <td>Tripel</td>\n",
       "      <td>0.333433</td>\n",
       "    </tr>\n",
       "    <tr>\n",
       "      <td>385718</td>\n",
       "      <td>La Trappe Tripel (Koningshoeven / Dominus)</td>\n",
       "      <td>Tripel</td>\n",
       "      <td>0.328833</td>\n",
       "    </tr>\n",
       "    <tr>\n",
       "      <td>268185</td>\n",
       "      <td>Kerberos Tripel</td>\n",
       "      <td>Tripel</td>\n",
       "      <td>0.328460</td>\n",
       "    </tr>\n",
       "    <tr>\n",
       "      <td>249090</td>\n",
       "      <td>Chimay Tripel (White)</td>\n",
       "      <td>Tripel</td>\n",
       "      <td>0.328384</td>\n",
       "    </tr>\n",
       "    <tr>\n",
       "      <td>371433</td>\n",
       "      <td>La Fin Du Monde</td>\n",
       "      <td>Tripel</td>\n",
       "      <td>0.327847</td>\n",
       "    </tr>\n",
       "    <tr>\n",
       "      <td>11185</td>\n",
       "      <td>Monk's Uncle Tripel</td>\n",
       "      <td>Tripel</td>\n",
       "      <td>0.323123</td>\n",
       "    </tr>\n",
       "    <tr>\n",
       "      <td>107889</td>\n",
       "      <td>Rule Of Thirds (Import Series Vol. 4)</td>\n",
       "      <td>Tripel</td>\n",
       "      <td>0.322610</td>\n",
       "    </tr>\n",
       "  </tbody>\n",
       "</table>\n",
       "</div>"
      ],
      "text/plain": [
       "                                         beer_name   beer_style      sims\n",
       "1854                            Dixie Crystal Beer       Tripel  1.000000\n",
       "207462                   Trippel Belgian Style Ale       Tripel  0.400943\n",
       "170557     Arbor Brewing Phat Abbot Belgian Triple       Tripel  0.372985\n",
       "373145                             La Fin Du Monde       Tripel  0.362921\n",
       "259444                           The Ugly American       Tripel  0.355088\n",
       "268022                             Kerberos Tripel       Tripel  0.349870\n",
       "385413  La Trappe Tripel (Koningshoeven / Dominus)       Tripel  0.346235\n",
       "373226                             La Fin Du Monde       Tripel  0.346035\n",
       "309220                      Longshot Friar Hop Ale  Belgian IPA  0.338575\n",
       "99013                        St. Sebastiaan Golden       Tripel  0.335602\n",
       "192367                        Green Flash Le Freak  Belgian IPA  0.334993\n",
       "373162                             La Fin Du Monde       Tripel  0.334107\n",
       "242989                               Augustijn Ale       Tripel  0.333805\n",
       "154372                                      Tripel       Tripel  0.333433\n",
       "385718  La Trappe Tripel (Koningshoeven / Dominus)       Tripel  0.328833\n",
       "268185                             Kerberos Tripel       Tripel  0.328460\n",
       "249090                       Chimay Tripel (White)       Tripel  0.328384\n",
       "371433                             La Fin Du Monde       Tripel  0.327847\n",
       "11185                          Monk's Uncle Tripel       Tripel  0.323123\n",
       "107889       Rule Of Thirds (Import Series Vol. 4)       Tripel  0.322610"
      ]
     },
     "execution_count": 64,
     "metadata": {},
     "output_type": "execute_result"
    }
   ],
   "source": [
    "beer_descr['sims'] = sims.T\n",
    "beer_descr.sort_values(by='sims', ascending=False)[['beer_name','beer_style','sims']].head(20)"
   ]
  },
  {
   "cell_type": "code",
   "execution_count": null,
   "metadata": {},
   "outputs": [],
   "source": []
  },
  {
   "cell_type": "code",
   "execution_count": 49,
   "metadata": {},
   "outputs": [],
   "source": [
    "# Domain Assumption : Based on the Inputs from : https://www.thebeerstore.ca/beers/?beer_style=strong \n",
    "#              Strong\n",
    "#              This is a broad grouping that can describe any beer over 7% ABV. \n",
    "#              Strong beers are typically dark in colour, some are almost black. \n",
    "#               Different styles can include old ales, double IPAs, and barleywines."
   ]
  }
 ],
 "metadata": {
  "kernelspec": {
   "display_name": "Python 3",
   "language": "python",
   "name": "python3"
  },
  "language_info": {
   "codemirror_mode": {
    "name": "ipython",
    "version": 3
   },
   "file_extension": ".py",
   "mimetype": "text/x-python",
   "name": "python",
   "nbconvert_exporter": "python",
   "pygments_lexer": "ipython3",
   "version": "3.7.4"
  }
 },
 "nbformat": 4,
 "nbformat_minor": 2
}
